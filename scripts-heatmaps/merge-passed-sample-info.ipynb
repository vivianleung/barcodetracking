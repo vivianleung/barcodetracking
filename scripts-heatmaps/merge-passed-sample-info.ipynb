{
 "cells": [
  {
   "cell_type": "markdown",
   "metadata": {},
   "source": [
    "## MERGE PASSED BARCODE DATA AND SAMPLE INFO\n",
    "\n",
    "#### Updated 09 Nov 2016"
   ]
  },
  {
   "cell_type": "code",
   "execution_count": 1,
   "metadata": {
    "collapsed": true
   },
   "outputs": [],
   "source": [
    "import numpy as np\n",
    "import pandas as pd\n",
    "import os\n",
    "import regex"
   ]
  },
  {
   "cell_type": "code",
   "execution_count": 2,
   "metadata": {
    "collapsed": true
   },
   "outputs": [],
   "source": [
    "EXPERIMENT = '18014'\n",
    "SAMPLES_FP = '../helpers/samples.csv'\n",
    "PASSED_FP = '../output/passed-18014.csv'\n",
    "OUTPUT_FP = '../output'\n",
    "# naming convention of indexes to parse\n",
    "IDX_PARAMS = ['monkey','tube']\n",
    "IDX_DELIM = '-'"
   ]
  },
  {
   "cell_type": "code",
   "execution_count": 3,
   "metadata": {
    "collapsed": false
   },
   "outputs": [],
   "source": [
    "def parse_idx(group):\n",
    "    split = group.name.split(IDX_DELIM)\n",
    "    if len(split) == len(IDX_PARAMS):\n",
    "        for param,val in zip(IDX_PARAMS,split):\n",
    "            group[param] = val\n",
    "    return group\n",
    "data = pd.read_csv(PASSED_FP)\n",
    "data = data.groupby('idx').apply(parse_idx)"
   ]
  },
  {
   "cell_type": "code",
   "execution_count": 4,
   "metadata": {
    "collapsed": true
   },
   "outputs": [],
   "source": [
    "samples = pd.read_csv(SAMPLES_FP)\n",
    "samples.drop(['weight','vol','CFU_per_gram'],axis=1, inplace=True)\n",
    "for col in np.intersect1d(samples.columns.values, data.columns.values):\n",
    "    data[col] = data[col].astype(samples[col].dtype)\n",
    "merged = pd.merge(data,samples, on=['monkey','tube'], how='left')"
   ]
  },
  {
   "cell_type": "code",
   "execution_count": 5,
   "metadata": {
    "collapsed": false
   },
   "outputs": [],
   "source": [
    "merged.to_csv('%s/passed+samples-%s.csv'%(OUTPUT_FP,EXPERIMENT), index=False)"
   ]
  }
 ],
 "metadata": {
  "anaconda-cloud": {},
  "kernelspec": {
   "display_name": "Python [Root]",
   "language": "python",
   "name": "Python [Root]"
  },
  "language_info": {
   "codemirror_mode": {
    "name": "ipython",
    "version": 2
   },
   "file_extension": ".py",
   "mimetype": "text/x-python",
   "name": "python",
   "nbconvert_exporter": "python",
   "pygments_lexer": "ipython2",
   "version": "2.7.12"
  }
 },
 "nbformat": 4,
 "nbformat_minor": 0
}
