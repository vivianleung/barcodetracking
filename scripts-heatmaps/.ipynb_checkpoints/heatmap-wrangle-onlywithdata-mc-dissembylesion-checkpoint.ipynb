{
 "cells": [
  {
   "cell_type": "markdown",
   "metadata": {},
   "source": [
    "## Updated as of 2016 July 26\n",
    "#### FUNCTIONAL!\n",
    "\n",
    "### REMOVED from Master Barcode_XYZ_7.14.16-abbr3.xlsx\n",
    "\n",
    "i.e. skepticals\n",
    "\n",
    "  * 17814_ACC0A ( pet-neg, cfu-neg )\n",
    "  * 17814_ACC0E ( pet-neg, cfu-neg )\n",
    "  \n",
    "  \n",
    "  * 17914_RLL24A ( pet-neg, cfu-neg )\n",
    "  * 17914_RLL0A ( pet-neg, cfu-neg )\n",
    "  * 17914_RLL0B ( pet-neg, cfu-neg )\n",
    "  * 17914_RLL0C ( pet-neg, cfu-neg )\n",
    "  * 17914_RLL0D ( pet-neg, cfu-neg )\n",
    "  * 17914_RLL0E ( pet-neg, cfu-neg )\n",
    "  * 17914_RLL0F ( pet-neg, cfu-neg )\n",
    "\n",
    "\n",
    "  * 18014_RLL06A ( pet-neg, cfu-neg )\n",
    "\n",
    "\n",
    "  * 18114_ACCD ( wasn't sent )\n",
    "  * 18114_ACCE ( wasn't sent )\n",
    "  * (include RLL6)\n",
    "\n",
    "### CHANGES DONE\n",
    "  * get rid of all the lesions not seen on PET and not culturable. (ie.remove all lesions which: (1) have letter designation/pet-neg) , and 2) no barcode)\n",
    "  * keep lesions that have no barcode and not seen on scan, but have CFU & not lost in pipeline \n",
    "  * 18114 ACC D and ACC E - not sent, don't include\n",
    "  * don't include ones lost in the pipeline\n",
    "\n",
    "\n",
    "### PLOT CHANGES\n",
    "  * change masking to not presents\n"
   ]
  },
  {
   "cell_type": "code",
   "execution_count": 106,
   "metadata": {
    "collapsed": false
   },
   "outputs": [],
   "source": [
    "import numpy as np\n",
    "import pandas as pd\n",
    "import os"
   ]
  },
  {
   "cell_type": "code",
   "execution_count": 107,
   "metadata": {
    "collapsed": false
   },
   "outputs": [],
   "source": [
    "FILE = '../data/Master Barcode_XYZ_7.14.16-abbr4.xlsx'\n",
    "xlsx = pd.ExcelFile(FILE)\n",
    "sheetnames = xlsx.sheet_names\n",
    "OUTPUT_FOLDER = [\"../data/wrangled/\",'abbr4/']"
   ]
  },
  {
   "cell_type": "code",
   "execution_count": 108,
   "metadata": {
    "collapsed": true
   },
   "outputs": [],
   "source": [
    "EXCLUDE = {'18114':['ACCD','ACCE']}"
   ]
  },
  {
   "cell_type": "code",
   "execution_count": 109,
   "metadata": {
    "collapsed": false
   },
   "outputs": [],
   "source": [
    "def prep_data(sheet):\n",
    "    def clean_up_initial_data(row):\n",
    "        row['lesion'] = row.lesion.split(\"_\")[1]\n",
    "        row['lesion_locus'] = row.lesion_tissue_type if pd.isnull(row.lesion_locus) else row.lesion_locus.strip()        \n",
    "        return row\n",
    "\n",
    "    data = xlsx.parse(sheet)    \n",
    "    # don't include ones lost or not recovered or sterile or cfu only (only have active ones)\n",
    "    data = data.loc[(data.nx_neg==0) # not recovered in nx\n",
    "                    & (data.lost_pp==0) # not lost in pipeline (or skeptical)\n",
    "                    & (data.secondary==0) # not secondary lesion\n",
    "                    & (data.sterile==0) # not sterile\n",
    "                    & (((data.z.isnull()==True) & (data.cfu==0))==False) # no cfuonly\n",
    "                   ]\n",
    "    \n",
    "    # clean up the df\n",
    "    data.drop(['comments','nx_neg', 'lost_pp', 'secondary', 'sterile'], axis=1, inplace=True)\n",
    "    data = data.apply(clean_up_initial_data, axis=1)\n",
    "    data.reset_index(inplace=True,drop=True)\n",
    "\n",
    "    # if custom exclusions\n",
    "    if monkey in EXCLUDE: data = data.loc[data.lesion.isin(EXCLUDE[monkey])==False]\n",
    "    return data"
   ]
  },
  {
   "cell_type": "code",
   "execution_count": 110,
   "metadata": {
    "collapsed": false
   },
   "outputs": [],
   "source": [
    "# def construct_barcode_refs(data):\n",
    "#     def parse_barcode_tuples(row):\n",
    "#         les, zs = row.item()\n",
    "#         keys = ['lesion_list', 'max_z','num_lesions','barcode_dissem_type']\n",
    "#         lesion_list = lesion_list\n",
    "#         grans = \n",
    "#         gran_pos = \n",
    "        \n",
    "#         values = [les, max(zs),len(les), 'disseminated' if len(les)>1 else 'contained']\n",
    "#         return pd.Series(values,keys)\n",
    "\n",
    "#     # construct table\n",
    "#     barcode_counts = pd.DataFrame(data.groupby('barcode').apply(lambda x: (x.lesion.values, x.z)))\n",
    "#     barcode_refs = barcode_counts.apply(parse_barcode_tuples, axis=1).sort_values(\n",
    "#         by=['num_lesions','max_z'], ascending=False)\n",
    "#     # assign barcode id based on sort\n",
    "#     barcode_refs['barcode_id'] = range(1,len(barcode_refs)+1)\n",
    "#     # assign barcode prop to data\n",
    "#     for prop in ['barcode_dissem_type','barcode_id']:\n",
    "#         data.loc[:,prop] = data.barcode.apply(lambda x: barcode_refs.loc[x,prop])\n",
    "#     return data, barcode_refs"
   ]
  },
  {
   "cell_type": "code",
   "execution_count": 111,
   "metadata": {
    "collapsed": false
   },
   "outputs": [],
   "source": [
    "def construct_barcode_refs(data):\n",
    "    \n",
    "    def construct_barcode_refs(group):\n",
    "        keys = ['lesion_list', 'gran_pos', 'max_lesion_z','num_lesions','barcode_dissem_type']\n",
    "        items = {\n",
    "            'lesion_list':np.array([]),\n",
    "            'gran_pos':False,\n",
    "            'max_lesion_z':-float('inf'),\n",
    "            'num_lesions':0,\n",
    "            'barcode_dissem_type':'contained'\n",
    "        }\n",
    "        \n",
    "        \n",
    "        items['lesion_list'] = group.lesion.values\n",
    "        grans = group.loc[group.lesion_tissue_type=='Gran']\n",
    "        items['gran_pos'] = True if len(grans)>0 else False\n",
    "        items['max_lesion_z'] = max(grans.z.values) if items['gran_pos'] else -float('inf')\n",
    "        items['num_lesions'] = len(group)\n",
    "        items['barcode_dissem_type'] = 'disseminated' if len(group)>1 else 'contained'\n",
    "        return pd.Series(items.values(),items.keys())\n",
    "    \n",
    "    # construct table\n",
    "    barcode_refs = pd.DataFrame(data.groupby('barcode').apply(construct_barcode_refs))\n",
    "    barcode_refs.sort_values(by=['gran_pos','barcode_dissem_type','max_lesion_z'], \n",
    "                             ascending=False, inplace=True)\n",
    "    # assign barcode id based on sort\n",
    "    barcode_refs['barcode_id'] = range(1,len(barcode_refs)+1)\n",
    "    # assign barcode prop to data\n",
    "    for prop in ['barcode_dissem_type','barcode_id','max_lesion_z']:\n",
    "        data.loc[:,prop] = data.barcode.apply(lambda x: barcode_refs.loc[x,prop])\n",
    "    return data, barcode_refs"
   ]
  },
  {
   "cell_type": "code",
   "execution_count": 157,
   "metadata": {
    "collapsed": false
   },
   "outputs": [],
   "source": [
    "def construct_lesion_refs(data, barcode_refs):\n",
    "    \n",
    "    def get_lesion_info(group):\n",
    "        tissue_type, locus, z = group[:1][['lesion_tissue_type','lesion_locus','z']].values[0]\n",
    "        keys = ['lesion_tissue_type','lesion_locus','z','min_barcode_id','lesion_dissem_type']\n",
    "        min_barcode_id  = min(group.barcode_id.values)\n",
    "        min_barcode = group.barcode.values[group.barcode_id.values==min_barcode_id][0]\n",
    "        lesion_dissem_type = 'disseminating' if barcode_refs.loc[min_barcode,'barcode_dissem_type'\n",
    "                                                                ] == 'disseminated' else 'contained' \n",
    "        return pd.Series( [tissue_type, locus, z, min_barcode_id, lesion_dissem_type], keys )\n",
    "    \n",
    "    lesion_refs = data.groupby('lesion').apply(get_lesion_info)\n",
    "    lesion_refs.reset_index(inplace=True)\n",
    "    lesion_refs.set_index('lesion',inplace=True)\n",
    "    lesion_refs.sort_values(by=['lesion_tissue_type','lesion_locus', 'z','min_barcode_id'], ascending=[True,True,False,True], inplace=True)\n",
    "    # assign lesion id based on sort\n",
    "    lesion_refs['lesion_id'] = range(1,len(lesion_refs)+1)\n",
    "    # assign lesion props to data\n",
    "    for prop in ['lesion_dissem_type','lesion_id','z']:\n",
    "        data.loc[:,prop] = data.lesion.apply(lambda x: lesion_refs.loc[x,prop])\n",
    "    return data, lesion_refs"
   ]
  },
  {
   "cell_type": "code",
   "execution_count": 158,
   "metadata": {
    "collapsed": false,
    "scrolled": false
   },
   "outputs": [],
   "source": [
    "all_data = {}\n",
    "for sheet in sheetnames:\n",
    "    monkey = str(sheet.split(\"_\")[0])\n",
    "    data = prep_data(sheet)\n",
    "    data.loc[data.z.isnull(),['x','y','z']] = -float('inf')\n",
    "    data, barcodes = construct_barcode_refs(data)\n",
    "    data, lesions = construct_lesion_refs(data, barcodes)\n",
    "    # cherry on top\n",
    "    data.sort_values(by=['lesion_id','z','barcode_id'],ascending=[True,False,True])\n",
    "    data['present'] = 0\n",
    "    all_data[monkey] = (data, lesions, barcodes)\n"
   ]
  },
  {
   "cell_type": "code",
   "execution_count": 160,
   "metadata": {
    "collapsed": false
   },
   "outputs": [],
   "source": [
    "for i in range(len(OUTPUT_FOLDER)):\n",
    "    folder = \"\".join(OUTPUT_FOLDER[:i+1])\n",
    "    if os.path.isdir(folder) == False: os.mkdir(folder)\n",
    "output_folder = \"\".join(OUTPUT_FOLDER)\n",
    "dfnames = ['wrangled','lesions','barcodes']\n",
    "for monkey in all_data.keys():\n",
    "    dfs = all_data[monkey]\n",
    "    for df, name in zip(dfs, dfnames):\n",
    "        path = \"%s%s\"%(output_folder,name)\n",
    "        if os.path.isdir(path)==False: os.mkdir(path)\n",
    "        df.to_csv(\"%s/%s-%s.csv\"%(path,name,monkey))"
   ]
  }
 ],
 "metadata": {
  "anaconda-cloud": {},
  "kernelspec": {
   "display_name": "Python [Root]",
   "language": "python",
   "name": "Python [Root]"
  },
  "language_info": {
   "codemirror_mode": {
    "name": "ipython",
    "version": 2
   },
   "file_extension": ".py",
   "mimetype": "text/x-python",
   "name": "python",
   "nbconvert_exporter": "python",
   "pygments_lexer": "ipython2",
   "version": "2.7.12"
  }
 },
 "nbformat": 4,
 "nbformat_minor": 0
}
