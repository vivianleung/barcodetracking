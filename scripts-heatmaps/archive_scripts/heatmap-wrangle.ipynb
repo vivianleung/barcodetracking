{
 "cells": [
  {
   "cell_type": "markdown",
   "metadata": {},
   "source": [
    "## Updated as of 2016 July 26\n",
    "#### FUNCTIONAL!\n",
    "\n",
    "### REMOVED from Master Barcode_XYZ_7.14.16-abbr3.xlsx\n",
    "\n",
    "i.e. skepticals\n",
    "\n",
    "  * 17814_ACC0A ( pet-neg, cfu-neg )\n",
    "  * 17814_ACC0E ( pet-neg, cfu-neg )\n",
    "  \n",
    "  \n",
    "  * 17914_RLL24A ( pet-neg, cfu-neg )\n",
    "  * 17914_RLL0A ( pet-neg, cfu-neg )\n",
    "  * 17914_RLL0B ( pet-neg, cfu-neg )\n",
    "  * 17914_RLL0C ( pet-neg, cfu-neg )\n",
    "  * 17914_RLL0D ( pet-neg, cfu-neg )\n",
    "  * 17914_RLL0E ( pet-neg, cfu-neg )\n",
    "  * 17914_RLL0F ( pet-neg, cfu-neg )\n",
    "\n",
    "\n",
    "  * 18014_RLL06A ( pet-neg, cfu-neg )\n",
    "\n",
    "\n",
    "  * 18114_ACCD ( wasn't sent )\n",
    "  * 18114_ACCE ( wasn't sent )\n",
    "  * (include RLL6)\n",
    "\n",
    "### CHANGES TO BE MADE\n",
    "  * remove all lesions which: 1) have letter designation , and 2) no barcode\n",
    "  * get rid of all the lesions not seen on PET and not culturable.\n",
    "  * keep lesions that have no barcode and not seen on scan, but have CFU & not lost in pipeline \n",
    "  * 18114 ACC D and ACC E - not sent, don't include\n",
    "  * don't include ones lost in the pipeline\n",
    "\n",
    "\n",
    "### PLOT CHANGES\n",
    "  * differentiate no barcode but CFU+ from steriles (i.e. replace masking with former)\n"
   ]
  },
  {
   "cell_type": "code",
   "execution_count": 1,
   "metadata": {
    "collapsed": false
   },
   "outputs": [],
   "source": [
    "\n",
    "import numpy as np\n",
    "import pandas as pd\n",
    "import os"
   ]
  },
  {
   "cell_type": "code",
   "execution_count": 8,
   "metadata": {
    "collapsed": false
   },
   "outputs": [],
   "source": [
    "FILE = '../data/Master Barcode_XYZ_7.14.16-abbr3.xlsx'\n",
    "xlsx = pd.ExcelFile(FILE)\n",
    "sheetnames = xlsx.sheet_names\n",
    "OUTPUT_FOLDER = \"../data/wrangled/\""
   ]
  },
  {
   "cell_type": "code",
   "execution_count": 3,
   "metadata": {
    "collapsed": true
   },
   "outputs": [],
   "source": [
    "EXCLUDE = {'18114':['ACCD','ACCE']}"
   ]
  },
  {
   "cell_type": "code",
   "execution_count": 4,
   "metadata": {
    "collapsed": false
   },
   "outputs": [],
   "source": [
    "def prep_data(data, monkey):\n",
    "    def clean_up_initial_data(row):\n",
    "        row['lesion'] = row.lesion.split(\"_\")[1]\n",
    "        row['barcode'] = row.barcode.strip() if pd.notnull(row.barcode) else 'x'\n",
    "        row['lesion_locus'] = row.lesion_tissue_type if pd.isnull(row.lesion_locus) else row.lesion_locus.strip()\n",
    "        row['cfuonly'] = 1 if ((row['barcode'] == 'x') and (row['cfu']>0)) else 0\n",
    "        \n",
    "        return row\n",
    "\n",
    "    # don't include ones lost or not recovered\n",
    "    data = data.loc[(data.nx_neg==0) # not recovered in nx\n",
    "                    & (data.lost_pp==0) # not lost in pipeline (or skeptical)\n",
    "                    & (data.secondary==0) # not secondary lesion\n",
    "                   ]\n",
    "    # if custom exclusions\n",
    "    \n",
    "    data.drop(['comments','nx_neg', 'lost_pp', 'secondary'], axis=1, inplace=True)\n",
    "    # clean up data\n",
    "    data = data.apply(clean_up_initial_data, axis=1)\n",
    "    data['present'] = 0\n",
    "    data.reset_index(inplace=True,drop=True)\n",
    "    if monkey in EXCLUDE: data = data.loc[data.lesion.isin(EXCLUDE[monkey])==False]\n",
    "\n",
    "    return data"
   ]
  },
  {
   "cell_type": "code",
   "execution_count": 5,
   "metadata": {
    "collapsed": false
   },
   "outputs": [],
   "source": [
    "# construct lesions table sorted by z, and assign lesion_id, assign to data\n",
    "def construct_lesions_table(data):\n",
    "    def apply_num_barcodes(group):\n",
    "        series = group[:1]\n",
    "        series['num_barcodes'] = len(group.loc[group.barcode!='x'])\n",
    "        return series\n",
    "    lesions = data.groupby('lesion', as_index=False).apply(apply_num_barcodes).reset_index(drop=True)\n",
    "    lesions.sort_values(by=['lesion_tissue_type','lesion_locus','z'],ascending=False,inplace=True) \n",
    "    lesions['lesion_id'] = range(len(lesions))\n",
    "    lesions.set_index('lesion',inplace=True)\n",
    "    data.loc[:,'lesion_id'] = data.lesion.apply(lambda x: lesions.loc[x,'lesion_id'])\n",
    "    return data, lesions"
   ]
  },
  {
   "cell_type": "code",
   "execution_count": 15,
   "metadata": {
    "collapsed": false
   },
   "outputs": [],
   "source": [
    "# construct barcodes table and assign barcode_id based on lesion_id, assign to data\n",
    "def construct_barcodes_table(data, lesions):\n",
    "    def apply_lesion_info_to_barcodes(group):\n",
    "        barcode = group.name\n",
    "        keys = [ 'min_lesion_id','num_lesions', 'dissem_type','grans_present', 'lesions' ]\n",
    "        num_lesions = len(group)\n",
    "        gran_lesions_ids = group.loc[group.lesion_tissue_type=='Gran']\n",
    "        min_lesion_id = min(gran_lesions_ids.lesion_id) if (barcode!='x') and (len(gran_lesions_ids)>0) else len(lesions)\n",
    "        grans_present = True if (len(gran_lesions_ids)>0) and barcode!='x' else False\n",
    "       \n",
    "        dissem_type = 'reclassify' if barcode=='x' else 'disseminated' if len(group)>1 else 'contained'\n",
    "        group_lesions = group.lesion.values\n",
    "        return pd.Series( [min_lesion_id, num_lesions, dissem_type, grans_present, group_lesions], keys )\n",
    "    \n",
    "    def apply_barcode_info_to_data(row):\n",
    "        barcode_info = barcodes.loc[row.barcode,:]\n",
    "        row['barcode_id'] = barcode_info.barcode_id\n",
    "        row['dissem_type'] = barcode_info.dissem_type\n",
    "        return row\n",
    "\n",
    "    barcodes = data.groupby(['barcode']).apply(apply_lesion_info_to_barcodes).reset_index()\n",
    "    barcodes.sort_values(by=['dissem_type','grans_present','min_lesion_id','num_lesions','barcode'],\n",
    "                         ascending=[False,False,True,False,True], inplace=True)\n",
    "    barcodes.set_index(['barcode'], inplace=True)\n",
    "    \n",
    "    barcodes['barcode_id'] = range(len(barcodes))\n",
    "    data = data.apply(apply_barcode_info_to_data, axis=1)\n",
    "    \n",
    "    data.loc[:,'dissem_type'] = data.apply(lambda x: x.dissem_type if x.dissem_type != 'reclassify' \n",
    "                                           else 'sterile' if x.cfu==0 else 'cfuonly', axis=1)\n",
    "    return data, barcodes\n"
   ]
  },
  {
   "cell_type": "code",
   "execution_count": 16,
   "metadata": {
    "collapsed": false
   },
   "outputs": [
    {
     "name": "stderr",
     "output_type": "stream",
     "text": [
      "/Users/vivianleung/anaconda/lib/python2.7/site-packages/ipykernel/__main__.py:17: SettingWithCopyWarning: \n",
      "A value is trying to be set on a copy of a slice from a DataFrame\n",
      "\n",
      "See the caveats in the documentation: http://pandas.pydata.org/pandas-docs/stable/indexing.html#indexing-view-versus-copy\n"
     ]
    }
   ],
   "source": [
    "all_data = {}\n",
    "if os.path.isdir(OUTPUT_FOLDER) == False: os.mkdir(OUTPUT_FOLDER)\n",
    "for sheet in sheetnames:\n",
    "    monkey = str(sheet.split(\"_\")[0])\n",
    "    \n",
    "    data = xlsx.parse(sheet)\n",
    "    data = prep_data(data, monkey)\n",
    "    data, lesions = construct_lesions_table(data)\n",
    "    data, barcodes = construct_barcodes_table(data, lesions)\n",
    "    \n",
    "    data.loc[data.sterile==1,'present'] = 2\n",
    "    data.loc[data.cfuonly==1,'present'] = 3\n",
    "    all_data[monkey] = (data, lesions, barcodes)\n",
    "    data.to_csv('../data/wrangled/wrangled-%s.csv'%monkey)"
   ]
  },
  {
   "cell_type": "code",
   "execution_count": 9,
   "metadata": {
    "collapsed": true
   },
   "outputs": [],
   "source": []
  }
 ],
 "metadata": {
  "anaconda-cloud": {},
  "kernelspec": {
   "display_name": "Python 2",
   "language": "python",
   "name": "python2"
  },
  "language_info": {
   "codemirror_mode": {
    "name": "ipython",
    "version": 2
   },
   "file_extension": ".py",
   "mimetype": "text/x-python",
   "name": "python",
   "nbconvert_exporter": "python",
   "pygments_lexer": "ipython2",
   "version": "2.7.11"
  }
 },
 "nbformat": 4,
 "nbformat_minor": 0
}
