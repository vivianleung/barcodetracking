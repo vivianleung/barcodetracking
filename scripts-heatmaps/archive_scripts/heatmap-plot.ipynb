{
 "cells": [
  {
   "cell_type": "markdown",
   "metadata": {
    "collapsed": true
   },
   "source": [
    "# UPDATED 2016 July 26\n",
    "\n",
    "## CHANGES to make\n",
    "\n",
    "  * change xticklabels from barcode seqs to arbitrary #s\n",
    "  * mask cfu-only (got rid of 'lost in pipeline' samples and pet-neg cfu-neg samples)\n",
    "  * (in next iteration: apply quantitative shadowing)\n",
    "  * make yticklabels bigger (condense: remove prefix ?)\n",
    "  * how to display all four monkeys at once?\n",
    "  * extra: auto layout....."
   ]
  },
  {
   "cell_type": "code",
   "execution_count": 1,
   "metadata": {
    "collapsed": true
   },
   "outputs": [],
   "source": [
    "%matplotlib inline"
   ]
  },
  {
   "cell_type": "code",
   "execution_count": 3,
   "metadata": {
    "collapsed": false
   },
   "outputs": [],
   "source": [
    "\n",
    "import numpy as np\n",
    "import pandas as pd\n",
    "import seaborn as sns\n",
    "import matplotlib.pyplot as plt\n",
    "import os"
   ]
  },
  {
   "cell_type": "code",
   "execution_count": 4,
   "metadata": {
    "collapsed": true
   },
   "outputs": [],
   "source": [
    "INPUT_FOLDER = '../data/wrangled/merged/'\n",
    "# OUTPUT_FOLDER = '../figs/v1-2016-07-26/'\n",
    "# DATE = '2016-07-26'\n",
    "FORMATS = ['svg','pdf']\n"
   ]
  },
  {
   "cell_type": "code",
   "execution_count": 4,
   "metadata": {
    "collapsed": false
   },
   "outputs": [],
   "source": [
    "# color values\n",
    "POSITIVE = '#BA053C'# dark pink\n",
    "NEGATIVE = '#FFE9B2' #yellow\n",
    "STERILE = '#C2EDEF' #light blue\n",
    "FILLER =  '#FF9C09' #orange\n",
    "\n",
    "COLOR_VALS = np.array([POSITIVE, NEGATIVE, STERILE, FILLER])"
   ]
  },
  {
   "cell_type": "code",
   "execution_count": 153,
   "metadata": {
    "collapsed": true
   },
   "outputs": [],
   "source": [
    "# cats for pivot table\n",
    "INDEXES = ['lesion_tissue_type','lesion_locus','z','lesion','lesion_dissem_type']\n",
    "COLUMNS = ['barcode_dissem_type','barcode_id','barcode']\n",
    "VALUES = ['percent_molecs']\n"
   ]
  },
  {
   "cell_type": "code",
   "execution_count": 106,
   "metadata": {
    "collapsed": false
   },
   "outputs": [],
   "source": [
    "def find_files():\n",
    "    files = np.array([])\n",
    "    for directory, sub, fnames in os.walk(INPUT_FOLDER):\n",
    "        for f in fnames:\n",
    "            if f.split(\"-\")[0]=='merged' and f[-4:]=='.csv': \n",
    "                fpath = \"%s%s\"%(directory, f)\n",
    "                files = np.append(files, [fpath])\n",
    "    return files\n",
    "files = find_files()\n"
   ]
  },
  {
   "cell_type": "code",
   "execution_count": 209,
   "metadata": {
    "collapsed": false
   },
   "outputs": [],
   "source": [
    "def make_pivot_df(fname):\n",
    "    data = pd.read_csv(fname)\n",
    "    data[['x','y','z']] = data[['x','y','z']].replace(to_replace=np.nan, value=-float('inf'))\n",
    "    pivotdf = pd.pivot_table(data, index=INDEXES, columns=COLUMNS, values=VALUES, fill_value=-1)\n",
    "    \n",
    "    pivotdf.sort_index(level=['lesion_tissue_type','lesion_locus','z'], \n",
    "                       ascending=[True,True,False],inplace=True)\n",
    "    pivotdf.columns = pivotdf.columns.droplevel([0,'barcode'])\n",
    "    pivotdf.columns.index = pivotdf.columns.sortlevel(level=['barcode_id'],\n",
    "                                                      ascending=True)\n",
    "    loci = []\n",
    "    barcode_types = pivotdf.columns.levels[0]\n",
    "    for l in pivotdf.index.get_level_values('lesion_locus'):\n",
    "        if not l in loci: loci.append(l)    \n",
    "    return pivotdf, loci, barcode_types\n",
    "\n"
   ]
  },
  {
   "cell_type": "code",
   "execution_count": 383,
   "metadata": {
    "collapsed": false,
    "scrolled": false
   },
   "outputs": [],
   "source": [
    "def assign_new_barcode_ids(pivotdf):\n",
    "    def apply_max_lesion_z(col):\n",
    "        values = col.loc[col>-1].loc['Gran',:].index.get_level_values('z').values\n",
    "        return max(values) if len(values) > 0 else -float('inf')\n",
    "            \n",
    "    max_z = pivotdf.apply(apply_max_lesion_z)\n",
    "    new_barcode_ids = pd.DataFrame(max_z).reset_index().sort_values(by=['barcode_dissem_type',0],ascending=False)\n",
    "    new_barcode_ids.rename(columns={0:'max_lesion_z'}, inplace=True)\n",
    "    new_barcode_ids.barcode_id = range(1, len(new_barcode_ids)+1)\n",
    "    return new_barcode_ids\n",
    "\n",
    "def reindex_pivotdf_cols(pivotdf):\n",
    "    new_barcode_ids = assign_new_barcode_ids(pivotdf)\n",
    "    pcols = pivotdf.columns\n",
    "    levels = [pcols.levels[0], new_barcode_ids.barcode_id, new_barcode_ids.max_lesion_z]\n",
    "    labels = [pcols.labels[0], pcols.labels[1], pcols.labels[1]]\n",
    "    names = [nam for nam in pcols.names] + ['max_lesion_z']\n",
    "    new_index = pd.MultiIndex( levels=levels, labels=labels, names=names )\n",
    "    pivotdf.columns = new_index\n",
    "    return pivotdf\n",
    "\n",
    "pivotdf,loci, barcode_t = make_pivot_df(files[0])\n",
    "\n",
    "pivotdf = reindex_pivotdf_cols(pivotdf)\n",
    "pivotdf.reset_index('lesion_tissue_type', inplace=True, drop=True)\n",
    "\n"
   ]
  },
  {
   "cell_type": "code",
   "execution_count": 389,
   "metadata": {
    "collapsed": false
   },
   "outputs": [
    {
     "ename": "NameError",
     "evalue": "global name 'title' is not defined",
     "output_type": "error",
     "traceback": [
      "\u001b[1;31m\u001b[0m",
      "\u001b[1;31mNameError\u001b[0mTraceback (most recent call last)",
      "\u001b[1;32m<ipython-input-389-31a96acd2769>\u001b[0m in \u001b[0;36m<module>\u001b[1;34m()\u001b[0m\n\u001b[0;32m      1\u001b[0m \u001b[0mlocus_t\u001b[0m \u001b[1;33m=\u001b[0m \u001b[0mpivotdf\u001b[0m\u001b[1;33m.\u001b[0m\u001b[0mloc\u001b[0m\u001b[1;33m[\u001b[0m\u001b[1;34m'RLL'\u001b[0m\u001b[1;33m,\u001b[0m\u001b[1;33m:\u001b[0m\u001b[1;33m]\u001b[0m\u001b[1;33m[\u001b[0m\u001b[1;34m'disseminated'\u001b[0m\u001b[1;33m]\u001b[0m\u001b[1;33m\u001b[0m\u001b[0m\n\u001b[1;32m----> 2\u001b[1;33m \u001b[0mplot_heatmap\u001b[0m\u001b[1;33m(\u001b[0m\u001b[0mlocus_t\u001b[0m\u001b[1;33m,\u001b[0m \u001b[1;34m'17814'\u001b[0m\u001b[1;33m)\u001b[0m\u001b[1;33m\u001b[0m\u001b[0m\n\u001b[0m\u001b[0;32m      3\u001b[0m \u001b[1;31m# mas, ticks = make_heatmap_arr_data(locus_t['disseminated'])\u001b[0m\u001b[1;33m\u001b[0m\u001b[1;33m\u001b[0m\u001b[0m\n",
      "\u001b[1;32m<ipython-input-206-307c8bc91324>\u001b[0m in \u001b[0;36mplot_heatmap\u001b[1;34m(locusdf, monkey)\u001b[0m\n\u001b[0;32m     22\u001b[0m     \u001b[0mf\u001b[0m\u001b[1;33m.\u001b[0m\u001b[0mset_size_inches\u001b[0m\u001b[1;33m(\u001b[0m\u001b[0mw\u001b[0m\u001b[1;33m,\u001b[0m \u001b[0mh\u001b[0m\u001b[1;33m)\u001b[0m\u001b[1;33m\u001b[0m\u001b[0m\n\u001b[0;32m     23\u001b[0m     \u001b[1;31m# YAY!\u001b[0m\u001b[1;33m\u001b[0m\u001b[1;33m\u001b[0m\u001b[0m\n\u001b[1;32m---> 24\u001b[1;33m     \u001b[1;32mreturn\u001b[0m \u001b[0mf\u001b[0m\u001b[1;33m,\u001b[0m \u001b[0max\u001b[0m\u001b[1;33m,\u001b[0m \u001b[0mtitle\u001b[0m\u001b[1;33m\u001b[0m\u001b[0m\n\u001b[0m",
      "\u001b[1;31mNameError\u001b[0m: global name 'title' is not defined"
     ]
    },
    {
     "data": {
      "image/png": "[encoded data removed]",
      "text/plain": [
       "<matplotlib.figure.Figure at 0x58613ba8>"
      ]
     },
     "metadata": {},
     "output_type": "display_data"
    }
   ],
   "source": [
    "locus_t = pivotdf.loc['RLL',:]['disseminated']\n",
    "plot_heatmap(locus_t, '17814')\n",
    "# mas, ticks = make_heatmap_arr_data(locus_t['disseminated'])\n"
   ]
  },
  {
   "cell_type": "code",
   "execution_count": 386,
   "metadata": {
    "collapsed": false
   },
   "outputs": [
    {
     "data": {
      "text/html": [
       "<div>\n",
       "<table border=\"1\" class=\"dataframe\">\n",
       "  <thead>\n",
       "    <tr>\n",
       "      <th></th>\n",
       "      <th></th>\n",
       "      <th>barcode_id</th>\n",
       "      <th>1</th>\n",
       "      <th>2</th>\n",
       "      <th>3</th>\n",
       "      <th>4</th>\n",
       "      <th>5</th>\n",
       "    </tr>\n",
       "    <tr>\n",
       "      <th></th>\n",
       "      <th></th>\n",
       "      <th>max_lesion_z</th>\n",
       "      <th>-196.393005</th>\n",
       "      <th>-198.893005</th>\n",
       "      <th>-206.393005</th>\n",
       "      <th>-215.143005</th>\n",
       "      <th>-225.143005</th>\n",
       "    </tr>\n",
       "    <tr>\n",
       "      <th>z</th>\n",
       "      <th>lesion</th>\n",
       "      <th>lesion_dissem_type</th>\n",
       "      <th></th>\n",
       "      <th></th>\n",
       "      <th></th>\n",
       "      <th></th>\n",
       "      <th></th>\n",
       "    </tr>\n",
       "  </thead>\n",
       "  <tbody>\n",
       "    <tr>\n",
       "      <th>-187.643005</th>\n",
       "      <th>RLL02</th>\n",
       "      <th>containing</th>\n",
       "      <td>-1.000000</td>\n",
       "      <td>-1.000000</td>\n",
       "      <td>-1.0</td>\n",
       "      <td>-1.000000</td>\n",
       "      <td>-1</td>\n",
       "    </tr>\n",
       "    <tr>\n",
       "      <th>-191.393005</th>\n",
       "      <th>RLL03</th>\n",
       "      <th>containing</th>\n",
       "      <td>-1.000000</td>\n",
       "      <td>-1.000000</td>\n",
       "      <td>-1.0</td>\n",
       "      <td>-1.000000</td>\n",
       "      <td>-1</td>\n",
       "    </tr>\n",
       "    <tr>\n",
       "      <th rowspan=\"2\" valign=\"top\">-196.393005</th>\n",
       "      <th>RLL09</th>\n",
       "      <th>disseminating</th>\n",
       "      <td>83.579988</td>\n",
       "      <td>-1.000000</td>\n",
       "      <td>-1.0</td>\n",
       "      <td>-1.000000</td>\n",
       "      <td>-1</td>\n",
       "    </tr>\n",
       "    <tr>\n",
       "      <th>RLL10</th>\n",
       "      <th>disseminating</th>\n",
       "      <td>8.588407</td>\n",
       "      <td>-1.000000</td>\n",
       "      <td>-1.0</td>\n",
       "      <td>-1.000000</td>\n",
       "      <td>-1</td>\n",
       "    </tr>\n",
       "    <tr>\n",
       "      <th>-198.893005</th>\n",
       "      <th>RLL11</th>\n",
       "      <th>disseminating</th>\n",
       "      <td>-1.000000</td>\n",
       "      <td>-1.000000</td>\n",
       "      <td>-1.0</td>\n",
       "      <td>100.000000</td>\n",
       "      <td>-1</td>\n",
       "    </tr>\n",
       "    <tr>\n",
       "      <th rowspan=\"3\" valign=\"top\">-201.393005</th>\n",
       "      <th>RLL14</th>\n",
       "      <th>containing</th>\n",
       "      <td>-1.000000</td>\n",
       "      <td>-1.000000</td>\n",
       "      <td>-1.0</td>\n",
       "      <td>-1.000000</td>\n",
       "      <td>-1</td>\n",
       "    </tr>\n",
       "    <tr>\n",
       "      <th>RLL15</th>\n",
       "      <th>containing</th>\n",
       "      <td>-1.000000</td>\n",
       "      <td>-1.000000</td>\n",
       "      <td>-1.0</td>\n",
       "      <td>-1.000000</td>\n",
       "      <td>-1</td>\n",
       "    </tr>\n",
       "    <tr>\n",
       "      <th>RLL16</th>\n",
       "      <th>containing</th>\n",
       "      <td>-1.000000</td>\n",
       "      <td>-1.000000</td>\n",
       "      <td>-1.0</td>\n",
       "      <td>-1.000000</td>\n",
       "      <td>-1</td>\n",
       "    </tr>\n",
       "    <tr>\n",
       "      <th>-203.893005</th>\n",
       "      <th>RLL18</th>\n",
       "      <th>containing</th>\n",
       "      <td>-1.000000</td>\n",
       "      <td>-1.000000</td>\n",
       "      <td>-1.0</td>\n",
       "      <td>-1.000000</td>\n",
       "      <td>-1</td>\n",
       "    </tr>\n",
       "    <tr>\n",
       "      <th>-206.393005</th>\n",
       "      <th>RLL23</th>\n",
       "      <th>disseminating</th>\n",
       "      <td>-1.000000</td>\n",
       "      <td>100.000000</td>\n",
       "      <td>-1.0</td>\n",
       "      <td>-1.000000</td>\n",
       "      <td>-1</td>\n",
       "    </tr>\n",
       "    <tr>\n",
       "      <th>-210.143005</th>\n",
       "      <th>RLL26</th>\n",
       "      <th>containing</th>\n",
       "      <td>-1.000000</td>\n",
       "      <td>-1.000000</td>\n",
       "      <td>-1.0</td>\n",
       "      <td>-1.000000</td>\n",
       "      <td>-1</td>\n",
       "    </tr>\n",
       "    <tr>\n",
       "      <th rowspan=\"5\" valign=\"top\">-215.143005</th>\n",
       "      <th>RLL29</th>\n",
       "      <th>disseminating</th>\n",
       "      <td>-1.000000</td>\n",
       "      <td>-1.000000</td>\n",
       "      <td>100.0</td>\n",
       "      <td>-1.000000</td>\n",
       "      <td>-1</td>\n",
       "    </tr>\n",
       "    <tr>\n",
       "      <th>RLL30</th>\n",
       "      <th>containing</th>\n",
       "      <td>-1.000000</td>\n",
       "      <td>-1.000000</td>\n",
       "      <td>-1.0</td>\n",
       "      <td>-1.000000</td>\n",
       "      <td>-1</td>\n",
       "    </tr>\n",
       "    <tr>\n",
       "      <th>RLL31</th>\n",
       "      <th>containing</th>\n",
       "      <td>-1.000000</td>\n",
       "      <td>-1.000000</td>\n",
       "      <td>-1.0</td>\n",
       "      <td>-1.000000</td>\n",
       "      <td>-1</td>\n",
       "    </tr>\n",
       "    <tr>\n",
       "      <th>RLL32</th>\n",
       "      <th>containing</th>\n",
       "      <td>-1.000000</td>\n",
       "      <td>-1.000000</td>\n",
       "      <td>-1.0</td>\n",
       "      <td>-1.000000</td>\n",
       "      <td>-1</td>\n",
       "    </tr>\n",
       "    <tr>\n",
       "      <th>RLL33</th>\n",
       "      <th>disseminating</th>\n",
       "      <td>100.000000</td>\n",
       "      <td>-1.000000</td>\n",
       "      <td>-1.0</td>\n",
       "      <td>-1.000000</td>\n",
       "      <td>-1</td>\n",
       "    </tr>\n",
       "    <tr>\n",
       "      <th>-222.643005</th>\n",
       "      <th>RLL35</th>\n",
       "      <th>containing</th>\n",
       "      <td>-1.000000</td>\n",
       "      <td>-1.000000</td>\n",
       "      <td>-1.0</td>\n",
       "      <td>-1.000000</td>\n",
       "      <td>-1</td>\n",
       "    </tr>\n",
       "    <tr>\n",
       "      <th rowspan=\"2\" valign=\"top\">-225.143005</th>\n",
       "      <th>RLL36</th>\n",
       "      <th>disseminating</th>\n",
       "      <td>-1.000000</td>\n",
       "      <td>-1.000000</td>\n",
       "      <td>-1.0</td>\n",
       "      <td>-1.000000</td>\n",
       "      <td>100</td>\n",
       "    </tr>\n",
       "    <tr>\n",
       "      <th>RLL37</th>\n",
       "      <th>containing</th>\n",
       "      <td>-1.000000</td>\n",
       "      <td>-1.000000</td>\n",
       "      <td>-1.0</td>\n",
       "      <td>-1.000000</td>\n",
       "      <td>-1</td>\n",
       "    </tr>\n",
       "    <tr>\n",
       "      <th rowspan=\"3\" valign=\"top\">-inf</th>\n",
       "      <th>RLLB</th>\n",
       "      <th>disseminating</th>\n",
       "      <td>100.000000</td>\n",
       "      <td>-1.000000</td>\n",
       "      <td>-1.0</td>\n",
       "      <td>-1.000000</td>\n",
       "      <td>-1</td>\n",
       "    </tr>\n",
       "    <tr>\n",
       "      <th>RLLC</th>\n",
       "      <th>disseminating</th>\n",
       "      <td>-1.000000</td>\n",
       "      <td>100.000000</td>\n",
       "      <td>-1.0</td>\n",
       "      <td>-1.000000</td>\n",
       "      <td>-1</td>\n",
       "    </tr>\n",
       "    <tr>\n",
       "      <th>RLLE</th>\n",
       "      <th>disseminating</th>\n",
       "      <td>-1.000000</td>\n",
       "      <td>98.712716</td>\n",
       "      <td>-1.0</td>\n",
       "      <td>1.287284</td>\n",
       "      <td>-1</td>\n",
       "    </tr>\n",
       "  </tbody>\n",
       "</table>\n",
       "</div>"
      ],
      "text/plain": [
       "barcode_id                                      1           2           3  \\\n",
       "max_lesion_z                          -196.393005 -198.893005 -206.393005   \n",
       "z           lesion lesion_dissem_type                                       \n",
       "-187.643005 RLL02  containing           -1.000000   -1.000000        -1.0   \n",
       "-191.393005 RLL03  containing           -1.000000   -1.000000        -1.0   \n",
       "-196.393005 RLL09  disseminating        83.579988   -1.000000        -1.0   \n",
       "            RLL10  disseminating         8.588407   -1.000000        -1.0   \n",
       "-198.893005 RLL11  disseminating        -1.000000   -1.000000        -1.0   \n",
       "-201.393005 RLL14  containing           -1.000000   -1.000000        -1.0   \n",
       "            RLL15  containing           -1.000000   -1.000000        -1.0   \n",
       "            RLL16  containing           -1.000000   -1.000000        -1.0   \n",
       "-203.893005 RLL18  containing           -1.000000   -1.000000        -1.0   \n",
       "-206.393005 RLL23  disseminating        -1.000000  100.000000        -1.0   \n",
       "-210.143005 RLL26  containing           -1.000000   -1.000000        -1.0   \n",
       "-215.143005 RLL29  disseminating        -1.000000   -1.000000       100.0   \n",
       "            RLL30  containing           -1.000000   -1.000000        -1.0   \n",
       "            RLL31  containing           -1.000000   -1.000000        -1.0   \n",
       "            RLL32  containing           -1.000000   -1.000000        -1.0   \n",
       "            RLL33  disseminating       100.000000   -1.000000        -1.0   \n",
       "-222.643005 RLL35  containing           -1.000000   -1.000000        -1.0   \n",
       "-225.143005 RLL36  disseminating        -1.000000   -1.000000        -1.0   \n",
       "            RLL37  containing           -1.000000   -1.000000        -1.0   \n",
       "-inf        RLLB   disseminating       100.000000   -1.000000        -1.0   \n",
       "            RLLC   disseminating        -1.000000  100.000000        -1.0   \n",
       "            RLLE   disseminating        -1.000000   98.712716        -1.0   \n",
       "\n",
       "barcode_id                                      4           5  \n",
       "max_lesion_z                          -215.143005 -225.143005  \n",
       "z           lesion lesion_dissem_type                          \n",
       "-187.643005 RLL02  containing           -1.000000          -1  \n",
       "-191.393005 RLL03  containing           -1.000000          -1  \n",
       "-196.393005 RLL09  disseminating        -1.000000          -1  \n",
       "            RLL10  disseminating        -1.000000          -1  \n",
       "-198.893005 RLL11  disseminating       100.000000          -1  \n",
       "-201.393005 RLL14  containing           -1.000000          -1  \n",
       "            RLL15  containing           -1.000000          -1  \n",
       "            RLL16  containing           -1.000000          -1  \n",
       "-203.893005 RLL18  containing           -1.000000          -1  \n",
       "-206.393005 RLL23  disseminating        -1.000000          -1  \n",
       "-210.143005 RLL26  containing           -1.000000          -1  \n",
       "-215.143005 RLL29  disseminating        -1.000000          -1  \n",
       "            RLL30  containing           -1.000000          -1  \n",
       "            RLL31  containing           -1.000000          -1  \n",
       "            RLL32  containing           -1.000000          -1  \n",
       "            RLL33  disseminating        -1.000000          -1  \n",
       "-222.643005 RLL35  containing           -1.000000          -1  \n",
       "-225.143005 RLL36  disseminating        -1.000000         100  \n",
       "            RLL37  containing           -1.000000          -1  \n",
       "-inf        RLLB   disseminating        -1.000000          -1  \n",
       "            RLLC   disseminating        -1.000000          -1  \n",
       "            RLLE   disseminating         1.287284          -1  "
      ]
     },
     "execution_count": 386,
     "metadata": {},
     "output_type": "execute_result"
    }
   ],
   "source": [
    "locus_t"
   ]
  },
  {
   "cell_type": "code",
   "execution_count": 186,
   "metadata": {
    "collapsed": false
   },
   "outputs": [],
   "source": [
    "mas, ticks = make_heatmap_arr_data(locus_t['disseminated'])"
   ]
  },
  {
   "cell_type": "code",
   "execution_count": 388,
   "metadata": {
    "collapsed": false
   },
   "outputs": [],
   "source": [
    "def make_heatmap_arr_data(locusdf):\n",
    "    \n",
    "    mask = locusdf.values==-1\n",
    "    yticklabels = np.array([\"%s\"%(l[1]) for l in locusdf.index.values])\n",
    "    ytl_rev_idx = np.array(sorted(range(len(yticklabels)), reverse=True))\n",
    "    yticklabels = yticklabels[ytl_rev_idx]\n",
    "    return mask, yticklabels"
   ]
  },
  {
   "cell_type": "code",
   "execution_count": 206,
   "metadata": {
    "collapsed": false
   },
   "outputs": [],
   "source": [
    "def plot_heatmap(locusdf, monkey):\n",
    "    \n",
    "    mask, yticklabels = make_heatmap_arr_data(locusdf)\n",
    "\n",
    "    # actually plot the thing\n",
    "    f, ax = plt.subplots(1)\n",
    "    ax = sns.heatmap( locusdf, vmin=0, mask=mask, ax=ax, square=True, linewidths=1, cbar=False )\n",
    "    \n",
    "    # axes formatting and such\n",
    "    ax.set_xlabel(\"\")\n",
    "    ax.set_ylabel(\"\")\n",
    "    xticklabels = [t.get_text() for t in ax.get_xticklabels()]\n",
    "    \n",
    "    ax.tick_params(axis='both', which='major', pad=8)\n",
    "    ax.set_xticklabels(xticklabels, rotation=90, ha='center', fontsize='x-large', weight='semibold')\n",
    "    ax.set_yticklabels(yticklabels, rotation=0, ha='right', fontsize='x-large', weight='semibold')\n",
    "    \n",
    "#     title = \" \".join([monkey, tissue, locus if locus!='na' else \"\", dissem])\n",
    "#     ax.set_title(title, size='large', y=1.02)\n",
    "    w = len(xticklabels)*.6\n",
    "    h = len(yticklabels)\n",
    "    f.set_size_inches(w, h)\n",
    "    # YAY!\n",
    "    return f, ax, title"
   ]
  },
  {
   "cell_type": "code",
   "execution_count": 261,
   "metadata": {
    "collapsed": false
   },
   "outputs": [],
   "source": [
    "pivotdf, loci, barcode_types = make_pivot_df(files[0])"
   ]
  },
  {
   "cell_type": "code",
   "execution_count": 12,
   "metadata": {
    "collapsed": false
   },
   "outputs": [],
   "source": [
    "# def iterate_pivoted(pivotdf, monkey):\n",
    "#     graphs = {}\n",
    "\n",
    "#     tiss_loc_keys = np.unique(pivotdf.reset_index('lesion').index.values)\n",
    "#     dissem_keys = np.unique(pivotdf.columns.get_level_values('dissem_type'))\n",
    "#     for tiss, loc in tiss_loc_keys:\n",
    "#         for dissem in dissem_keys:\n",
    "#             key = (tiss, loc, dissem)\n",
    "#             f, ax, title = plot_heatmap(key, pivotdf, monkey)\n",
    "#             graphs[key] =  f,ax\n",
    "#     return graphs\n"
   ]
  },
  {
   "cell_type": "code",
   "execution_count": 318,
   "metadata": {
    "collapsed": false,
    "scrolled": false
   },
   "outputs": [
    {
     "ename": "ValueError",
     "evalue": "too many values to unpack",
     "output_type": "error",
     "traceback": [
      "\u001b[0;31m---------------------------------------------------------------------------\u001b[0m",
      "\u001b[0;31mValueError\u001b[0m                                Traceback (most recent call last)",
      "\u001b[0;32m<ipython-input-318-b2f414c3fc6e>\u001b[0m in \u001b[0;36m<module>\u001b[0;34m()\u001b[0m\n\u001b[1;32m     14\u001b[0m \u001b[0;34m\u001b[0m\u001b[0m\n\u001b[1;32m     15\u001b[0m \u001b[0;31m#         pivoted.to_csv(\"../data/pivoted-noculturesstuffs/pivoted-noculturesstuffs-%s.csv\"%monkey)\u001b[0m\u001b[0;34m\u001b[0m\u001b[0;34m\u001b[0m\u001b[0m\n\u001b[0;32m---> 16\u001b[0;31m         \u001b[0mgraphs\u001b[0m \u001b[0;34m=\u001b[0m \u001b[0miterate_pivoted\u001b[0m\u001b[0;34m(\u001b[0m\u001b[0mpivoted\u001b[0m\u001b[0;34m,\u001b[0m \u001b[0mmonkey\u001b[0m\u001b[0;34m)\u001b[0m\u001b[0;34m\u001b[0m\u001b[0m\n\u001b[0m\u001b[1;32m     17\u001b[0m         \u001b[0mall_graphs\u001b[0m\u001b[0;34m[\u001b[0m\u001b[0mmonkey\u001b[0m\u001b[0;34m]\u001b[0m \u001b[0;34m=\u001b[0m \u001b[0mgraphs\u001b[0m\u001b[0;34m\u001b[0m\u001b[0m\n\u001b[1;32m     18\u001b[0m         \u001b[0;32mbreak\u001b[0m\u001b[0;34m\u001b[0m\u001b[0m\n",
      "\u001b[0;32m<ipython-input-12-3a96bd7aa764>\u001b[0m in \u001b[0;36miterate_pivoted\u001b[0;34m(pivotdf, monkey)\u001b[0m\n\u001b[1;32m      4\u001b[0m     \u001b[0mtiss_loc_keys\u001b[0m \u001b[0;34m=\u001b[0m \u001b[0mnp\u001b[0m\u001b[0;34m.\u001b[0m\u001b[0munique\u001b[0m\u001b[0;34m(\u001b[0m\u001b[0mpivotdf\u001b[0m\u001b[0;34m.\u001b[0m\u001b[0mreset_index\u001b[0m\u001b[0;34m(\u001b[0m\u001b[0;34m'lesion'\u001b[0m\u001b[0;34m)\u001b[0m\u001b[0;34m.\u001b[0m\u001b[0mindex\u001b[0m\u001b[0;34m.\u001b[0m\u001b[0mvalues\u001b[0m\u001b[0;34m)\u001b[0m\u001b[0;34m\u001b[0m\u001b[0m\n\u001b[1;32m      5\u001b[0m     \u001b[0mdissem_keys\u001b[0m \u001b[0;34m=\u001b[0m \u001b[0mnp\u001b[0m\u001b[0;34m.\u001b[0m\u001b[0munique\u001b[0m\u001b[0;34m(\u001b[0m\u001b[0mpivotdf\u001b[0m\u001b[0;34m.\u001b[0m\u001b[0mcolumns\u001b[0m\u001b[0;34m.\u001b[0m\u001b[0mget_level_values\u001b[0m\u001b[0;34m(\u001b[0m\u001b[0;34m'dissem_type'\u001b[0m\u001b[0;34m)\u001b[0m\u001b[0;34m)\u001b[0m\u001b[0;34m\u001b[0m\u001b[0m\n\u001b[0;32m----> 6\u001b[0;31m     \u001b[0;32mfor\u001b[0m \u001b[0mtiss\u001b[0m\u001b[0;34m,\u001b[0m \u001b[0mloc\u001b[0m \u001b[0;32min\u001b[0m \u001b[0mtiss_loc_keys\u001b[0m\u001b[0;34m:\u001b[0m\u001b[0;34m\u001b[0m\u001b[0m\n\u001b[0m\u001b[1;32m      7\u001b[0m         \u001b[0;32mfor\u001b[0m \u001b[0mdissem\u001b[0m \u001b[0;32min\u001b[0m \u001b[0mdissem_keys\u001b[0m\u001b[0;34m:\u001b[0m\u001b[0;34m\u001b[0m\u001b[0m\n\u001b[1;32m      8\u001b[0m             \u001b[0mkey\u001b[0m \u001b[0;34m=\u001b[0m \u001b[0;34m(\u001b[0m\u001b[0mtiss\u001b[0m\u001b[0;34m,\u001b[0m \u001b[0mloc\u001b[0m\u001b[0;34m,\u001b[0m \u001b[0mdissem\u001b[0m\u001b[0;34m)\u001b[0m\u001b[0;34m\u001b[0m\u001b[0m\n",
      "\u001b[0;31mValueError\u001b[0m: too many values to unpack"
     ]
    }
   ],
   "source": [
    "all_graphs = {}\n",
    "pivoted_dfs = {}\n",
    "\n",
    "# pivotdf = make_pivot_df(files[0])\n",
    "# if not os.path.isdir(\"../data/pivoted-noculturesstuffs\"): os.mkdir(\"../data/pivoted-noculturesstuffs\")\n",
    "for f in files:\n",
    "    monkey = f[:-4].split(\"-\")[1]\n",
    "    pivoted, loci, barcode_types = make_pivot_df(data)\n",
    "    for locus in loci:\n",
    "        for btype in barcode_types:\n",
    "            locus_t = pivotdf.loc[locus,:][btype]\n",
    "            mask, yticklabels = make_heatmap_arr_data(locus_t)\n",
    "    #  pivoted.to_csv(\"../data/pivoted/pivoted-%s.csv\"%monkey)\n",
    "        all_graphs[monkey] = graphs\n",
    "    break\n",
    "break"
   ]
  },
  {
   "cell_type": "code",
   "execution_count": 31,
   "metadata": {
    "collapsed": false
   },
   "outputs": [],
   "source": [
    "# # for noticklabels\n",
    "# if not os.path.isdir(OTHER_OUTPUT_FOLDER): os.mkdir(OTHER_OUTPUT_FOLDER)\n",
    "\n",
    "# for monkey, graphs in all_graphs.items():\n",
    "#     monkey_path = \"%s/%s/\"%(OTHER_OUTPUT_FOLDER, str(monkey))\n",
    "#     if not os.path.isdir(monkey_path): \n",
    "#         os.mkdir(monkey_path)\n",
    "#     for fmt in FORMATS:\n",
    "#         fmt_path = monkey_path+fmt+\"/\"\n",
    "#         if not os.path.isdir(fmt_path):\n",
    "#             os.mkdir(fmt_path)\n",
    "#     for key, (f,ax) in graphs.items():\n",
    "#         tissue_type, locus, dissem = key\n",
    "#         if tissue_type != 'LN': ax.set_xticklabels([])\n",
    "#         if dissem == 'contained': ax.set_yticklabels([])\n",
    "#         title = locus if tissue_type == 'Gran' else tissue_type\n",
    "#         for fmt in FORMATS:\n",
    "#             file_path = \"%s%s/%s-%s-%s.%s\"%(monkey_path, fmt, monkey, title, dissem, fmt)\n",
    "#             f.savefig(file_path)\n"
   ]
  },
  {
   "cell_type": "code",
   "execution_count": 16,
   "metadata": {
    "collapsed": false
   },
   "outputs": [],
   "source": [
    "# if not os.path.isdir(OUTPUT_FOLDER): os.mkdir(OUTPUT_FOLDER)\n",
    "# for monkey, graphs in all_graphs.items():\n",
    "#     monkey_path = \"%s/%s/\"%(OUTPUT_FOLDER, str(monkey))\n",
    "#     if not os.path.isdir(monkey_path): \n",
    "#         os.mkdir(monkey_path)\n",
    "#     for fmt in FORMATS:\n",
    "#         fmt_path = monkey_path+fmt+\"/\"\n",
    "#         if not os.path.isdir(fmt_path):\n",
    "#             os.mkdir(fmt_path)\n",
    "#     for key, (f,ax) in graphs.items():\n",
    "#         tissue_type, locus, dissem = key\n",
    "#         title = locus if tissue_type == 'Gran' else tissue_type\n",
    "#         for fmt in FORMATS:\n",
    "#             file_path = \"%s%s/%s.%s\"%(monkey_path, fmt, title, fmt)\n",
    "#             f.savefig(file_path)\n"
   ]
  }
 ],
 "metadata": {
  "anaconda-cloud": {},
  "kernelspec": {
   "display_name": "Python [Root]",
   "language": "python",
   "name": "Python [Root]"
  },
  "language_info": {
   "codemirror_mode": {
    "name": "ipython",
    "version": 2
   },
   "file_extension": ".py",
   "mimetype": "text/x-python",
   "name": "python",
   "nbconvert_exporter": "python",
   "pygments_lexer": "ipython2",
   "version": "2.7.12"
  }
 },
 "nbformat": 4,
 "nbformat_minor": 0
}
