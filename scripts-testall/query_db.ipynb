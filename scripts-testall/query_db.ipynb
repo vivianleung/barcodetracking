{
 "cells": [
  {
   "cell_type": "code",
   "execution_count": 4,
   "metadata": {
    "collapsed": true
   },
   "outputs": [],
   "source": [
    "import pandas as pd\n",
    "import sqlite3"
   ]
  },
  {
   "cell_type": "code",
   "execution_count": 2,
   "metadata": {
    "collapsed": true
   },
   "outputs": [],
   "source": [
    "DB = \"../output/counts_sample.db\""
   ]
  },
  {
   "cell_type": "code",
   "execution_count": 10,
   "metadata": {
    "collapsed": true
   },
   "outputs": [],
   "source": [
    "# open db and init cursor\n",
    "conn = sqlite3.connect(DB)\n",
    "c = conn.cursor()"
   ]
  },
  {
   "cell_type": "code",
   "execution_count": 57,
   "metadata": {
    "collapsed": false
   },
   "outputs": [],
   "source": [
    "# get list of table names in db\n",
    "table_names = c.execute('''\n",
    "    SELECT name from sqlite_master\n",
    "    WHERE type='table';\n",
    "''').fetchall()"
   ]
  },
  {
   "cell_type": "code",
   "execution_count": 85,
   "metadata": {
    "collapsed": true
   },
   "outputs": [
    {
     "name": "stdout",
     "output_type": "stream",
     "text": [
      "Table:  NH025\n",
      "Number of rows:  228\n",
      "Columns: \n",
      "(0, u'index', u'BIGINT', 0, None, 0)\n",
      "(1, u'qtag', u'TEXT', 0, None, 0)\n",
      "(2, u'barcode', u'TEXT', 0, None, 0)\n",
      "(3, u'readsPF', u'BIGINT', 0, None, 0)\n",
      "(4, u'mcountsPF', u'BIGINT', 0, None, 0)\n",
      "(5, u'idx', u'TEXT', 0, None, 0)\n",
      "Example row:  (0, u'q26', u'GGATGGC', 8210, 8008, u'NH025')\n",
      "\n",
      "\n",
      "Table:  NH120\n",
      "Number of rows:  431\n",
      "Columns: \n",
      "(0, u'index', u'BIGINT', 0, None, 0)\n",
      "(1, u'qtag', u'TEXT', 0, None, 0)\n",
      "(2, u'barcode', u'TEXT', 0, None, 0)\n",
      "(3, u'readsPF', u'BIGINT', 0, None, 0)\n",
      "(4, u'mcountsPF', u'BIGINT', 0, None, 0)\n",
      "(5, u'idx', u'TEXT', 0, None, 0)\n",
      "Example row:  (0, u'q26', u'TAGGGCG', 2537, 2512, u'NH120')\n",
      "\n",
      "\n",
      "Table:  NH001\n",
      "Number of rows:  45\n",
      "Columns: \n",
      "(0, u'index', u'BIGINT', 0, None, 0)\n",
      "(1, u'qtag', u'TEXT', 0, None, 0)\n",
      "(2, u'barcode', u'TEXT', 0, None, 0)\n",
      "(3, u'readsPF', u'BIGINT', 0, None, 0)\n",
      "(4, u'mcountsPF', u'BIGINT', 0, None, 0)\n",
      "(5, u'idx', u'TEXT', 0, None, 0)\n",
      "Example row:  (0, u'q26', u'CGGGTGC', 82322, 66705, u'NH001')\n",
      "\n",
      "\n",
      "Table:  NH005\n",
      "Number of rows:  138\n",
      "Columns: \n",
      "(0, u'index', u'BIGINT', 0, None, 0)\n",
      "(1, u'qtag', u'TEXT', 0, None, 0)\n",
      "(2, u'barcode', u'TEXT', 0, None, 0)\n",
      "(3, u'readsPF', u'BIGINT', 0, None, 0)\n",
      "(4, u'mcountsPF', u'BIGINT', 0, None, 0)\n",
      "(5, u'idx', u'TEXT', 0, None, 0)\n",
      "Example row:  (0, u'q26', u'CGGGTGC', 24202, 22680, u'NH005')\n",
      "\n",
      "\n"
     ]
    }
   ],
   "source": [
    "# for each table, check that rows do exist, and are correct columns\n",
    "for t in table_names:\n",
    "    # table name\n",
    "    print \"Table: \", t[0]\n",
    "    # number of lines in table\n",
    "    print \"Number of rows: \", c.execute('''\n",
    "        SELECT count(*) from %s\n",
    "    '''%t).fetchone()[0]\n",
    "    # columns in table\n",
    "    print \"Columns: \"\n",
    "    cols = c.execute('''\n",
    "        PRAGMA table_info(%s);\n",
    "    '''%t).fetchall()\n",
    "    for col in cols:\n",
    "        print col\n",
    "    # example row\n",
    "    print \"Example row: \", c.execute('''\n",
    "        SELECT * from %s \n",
    "        WHERE mcountsPF > 1000;\n",
    "    '''%t).fetchone()\n",
    "    print '\\n'\n"
   ]
  },
  {
   "cell_type": "code",
   "execution_count": 86,
   "metadata": {
    "collapsed": true
   },
   "outputs": [],
   "source": [
    "# close connection\n",
    "# conn.commit()\n",
    "conn.close()"
   ]
  }
 ],
 "metadata": {
  "anaconda-cloud": {},
  "kernelspec": {
   "display_name": "Python [Root]",
   "language": "python",
   "name": "Python [Root]"
  },
  "language_info": {
   "codemirror_mode": {
    "name": "ipython",
    "version": 2
   },
   "file_extension": ".py",
   "mimetype": "text/x-python",
   "name": "python",
   "nbconvert_exporter": "python",
   "pygments_lexer": "ipython2",
   "version": "2.7.12"
  }
 },
 "nbformat": 4,
 "nbformat_minor": 0
}
